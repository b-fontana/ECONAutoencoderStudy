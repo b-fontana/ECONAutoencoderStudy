{
 "cells": [
  {
   "cell_type": "code",
   "execution_count": 1,
   "metadata": {
    "ExecuteTime": {
     "end_time": "2021-05-28T12:32:15.594025Z",
     "start_time": "2021-05-28T12:32:15.580598Z"
    }
   },
   "outputs": [],
   "source": [
    "%load_ext autoreload\n",
    "%autoreload 2"
   ]
  },
  {
   "cell_type": "code",
   "execution_count": 2,
   "metadata": {
    "ExecuteTime": {
     "end_time": "2021-05-28T12:32:16.001946Z",
     "start_time": "2021-05-28T12:32:15.595150Z"
    }
   },
   "outputs": [],
   "source": [
    "%matplotlib inline "
   ]
  },
  {
   "cell_type": "code",
   "execution_count": 3,
   "metadata": {},
   "outputs": [],
   "source": [
    "# pd.set_option('display.max_rows', None)\n",
    "#pd.set_option('display.max_columns', None)\n",
    "# pd.set_option('display.width', None)\n",
    "# pd.set_option('display.max_colwidth', None)"
   ]
  },
  {
   "cell_type": "code",
   "execution_count": 4,
   "metadata": {
    "ExecuteTime": {
     "end_time": "2021-05-28T12:32:16.899089Z",
     "start_time": "2021-05-28T12:32:16.004351Z"
    }
   },
   "outputs": [],
   "source": [
    "import os\n",
    "from glob import glob\n",
    "import pandas as pd\n",
    "import numpy as np\n",
    "from matplotlib import pyplot as plt\n",
    "import matplotlib"
   ]
  },
  {
   "cell_type": "markdown",
   "metadata": {},
   "source": [
    "## Configuration"
   ]
  },
  {
   "cell_type": "markdown",
   "metadata": {},
   "source": [
    "### Input files and FE algorithms to be studied\n",
    "0PU photon data are loaded"
   ]
  },
  {
   "cell_type": "code",
   "execution_count": 5,
   "metadata": {
    "ExecuteTime": {
     "end_time": "2021-05-28T12:32:16.951080Z",
     "start_time": "2021-05-28T12:32:16.927082Z"
    }
   },
   "outputs": [],
   "source": [
    "algo_files = {}\n",
    "directory = 'Documents/FPGAs/'\n",
    "fes = ['Threshold']\n",
    "\n",
    "for fe in fes:\n",
    "    algo_files[fe] = [ os.path.join(os.environ['HOME'], directory, 'out.hdf5') ]"
   ]
  },
  {
   "cell_type": "markdown",
   "metadata": {},
   "source": [
    "## Loading and preprocessing dataframes"
   ]
  },
  {
   "cell_type": "code",
   "execution_count": 6,
   "metadata": {
    "ExecuteTime": {
     "end_time": "2021-05-28T12:34:08.789397Z",
     "start_time": "2021-05-28T12:32:16.952290Z"
    }
   },
   "outputs": [],
   "source": [
    "algos_dfs = {}\n",
    "for fe,files in algo_files.items():\n",
    "    name = fe\n",
    "    dfs = []\n",
    "    for file in files:\n",
    "        with pd.HDFStore(file, mode='r') as store:\n",
    "            dfs.append(store[name])\n",
    "    algos_dfs[fe] = pd.concat(dfs)\n",
    "algo_names = sorted(algos_dfs.keys())"
   ]
  },
  {
   "cell_type": "code",
   "execution_count": 7,
   "metadata": {},
   "outputs": [],
   "source": [
    "#Cleaning\n",
    "df = algos_dfs['Threshold']\n",
    "df = df[ df['genpart_exeta']>0 ]\n",
    "df = df[ df['cl3d_eta']>0 ]"
   ]
  },
  {
   "cell_type": "code",
   "execution_count": 8,
   "metadata": {},
   "outputs": [],
   "source": [
    "df['enres'] = ( df['genpart_energy']-df['cl3d_energy'] ) / df['genpart_energy']"
   ]
  },
  {
   "cell_type": "code",
   "execution_count": 9,
   "metadata": {},
   "outputs": [
    {
     "data": {
      "text/html": [
       "<div>\n",
       "<style scoped>\n",
       "    .dataframe tbody tr th:only-of-type {\n",
       "        vertical-align: middle;\n",
       "    }\n",
       "\n",
       "    .dataframe tbody tr th {\n",
       "        vertical-align: top;\n",
       "    }\n",
       "\n",
       "    .dataframe thead th {\n",
       "        text-align: right;\n",
       "    }\n",
       "</style>\n",
       "<table border=\"1\" class=\"dataframe\">\n",
       "  <thead>\n",
       "    <tr style=\"text-align: right;\">\n",
       "      <th></th>\n",
       "      <th>genpart_exphi</th>\n",
       "      <th>genpart_exeta</th>\n",
       "      <th>genpart_energy</th>\n",
       "      <th>cl3d_energy</th>\n",
       "      <th>cl3d_pt</th>\n",
       "      <th>cl3d_eta</th>\n",
       "      <th>cl3d_phi</th>\n",
       "      <th>cl3d_layer_pt</th>\n",
       "      <th>deta</th>\n",
       "      <th>dphi</th>\n",
       "      <th>deltar</th>\n",
       "      <th>matches</th>\n",
       "      <th>best_match</th>\n",
       "      <th>tc_layer</th>\n",
       "      <th>tc_x</th>\n",
       "      <th>tc_y</th>\n",
       "      <th>tc_z</th>\n",
       "      <th>enres</th>\n",
       "    </tr>\n",
       "    <tr>\n",
       "      <th>event</th>\n",
       "      <th></th>\n",
       "      <th></th>\n",
       "      <th></th>\n",
       "      <th></th>\n",
       "      <th></th>\n",
       "      <th></th>\n",
       "      <th></th>\n",
       "      <th></th>\n",
       "      <th></th>\n",
       "      <th></th>\n",
       "      <th></th>\n",
       "      <th></th>\n",
       "      <th></th>\n",
       "      <th></th>\n",
       "      <th></th>\n",
       "      <th></th>\n",
       "      <th></th>\n",
       "      <th></th>\n",
       "    </tr>\n",
       "  </thead>\n",
       "  <tbody>\n",
       "  </tbody>\n",
       "</table>\n",
       "</div>"
      ],
      "text/plain": [
       "Empty DataFrame\n",
       "Columns: [genpart_exphi, genpart_exeta, genpart_energy, cl3d_energy, cl3d_pt, cl3d_eta, cl3d_phi, cl3d_layer_pt, deta, dphi, deltar, matches, best_match, tc_layer, tc_x, tc_y, tc_z, enres]\n",
       "Index: []"
      ]
     },
     "execution_count": 9,
     "metadata": {},
     "output_type": "execute_result"
    }
   ],
   "source": [
    "nansel = pd.isna(df['enres']) \n",
    "nandf = df[nansel]\n",
    "nandf['enres'] = 1.1\n",
    "df = df[~nansel]\n",
    "df = pd.concat([df,nandf], sort=False)\n",
    "counts, edges = np.histogram(df['enres'].array, bins=500)\n",
    "nandf"
   ]
  },
  {
   "cell_type": "code",
   "execution_count": 10,
   "metadata": {},
   "outputs": [],
   "source": [
    "matplotlib.rcParams.update({'font.size': 11})\n",
    "def plot_histo_quick(df1, df2, var, nbins=600):\n",
    "    plt.figure(figsize=(12,4))\n",
    "    plt.subplot(211)\n",
    "    plt.hist(df1[var], bins=nbins)\n",
    "    plt.grid()\n",
    "    plt.xlabel(var)\n",
    "    plt.ylabel('Counts')\n",
    "    plt.subplot(221)\n",
    "    plt.hist(df2[var], bins=nbins)\n",
    "    plt.grid()\n",
    "    plt.xlabel(var)\n",
    "    plt.ylabel('Counts')\n",
    "    plt.show()"
   ]
  },
  {
   "cell_type": "code",
   "execution_count": 11,
   "metadata": {},
   "outputs": [
    {
     "data": {
      "text/plain": [
       "Index(['genpart_exphi', 'genpart_exeta', 'genpart_energy', 'cl3d_energy',\n",
       "       'cl3d_pt', 'cl3d_eta', 'cl3d_phi', 'cl3d_layer_pt', 'deta', 'dphi',\n",
       "       'deltar', 'matches', 'best_match', 'tc_layer', 'tc_x', 'tc_y', 'tc_z',\n",
       "       'enres'],\n",
       "      dtype='object')"
      ]
     },
     "execution_count": 11,
     "metadata": {},
     "output_type": "execute_result"
    }
   ],
   "source": [
    "enrescut = 0.3\n",
    "duplicated = df[ df['enres'] > enrescut ]\n",
    "duplicated.columns"
   ]
  },
  {
   "cell_type": "code",
   "execution_count": null,
   "metadata": {},
   "outputs": [
    {
     "data": {
      "image/png": "[encoded data removed]",
      "text/plain": [
       "<Figure size 864x288 with 1 Axes>"
      ]
     },
     "metadata": {
      "needs_background": "light"
     },
     "output_type": "display_data"
    },
    {
     "data": {
      "image/png": "[encoded data removed]",
      "text/plain": [
       "<Figure size 864x288 with 1 Axes>"
      ]
     },
     "metadata": {
      "needs_background": "light"
     },
     "output_type": "display_data"
    },
    {
     "data": {
      "image/png": "[encoded data removed]",
      "text/plain": [
       "<Figure size 864x288 with 1 Axes>"
      ]
     },
     "metadata": {
      "needs_background": "light"
     },
     "output_type": "display_data"
    },
    {
     "data": {
      "image/png": "[encoded data removed]",
      "text/plain": [
       "<Figure size 864x288 with 1 Axes>"
      ]
     },
     "metadata": {
      "needs_background": "light"
     },
     "output_type": "display_data"
    }
   ],
   "source": [
    "for col in duplicated.columns:\n",
    "    if 'cl3d' in col:\n",
    "        plot_histo_quick(df, duplicated, var=col, nbins=200)"
   ]
  },
  {
   "cell_type": "code",
   "execution_count": null,
   "metadata": {},
   "outputs": [],
   "source": []
  }
 ],
 "metadata": {
  "kernelspec": {
   "display_name": "Python 3",
   "language": "python",
   "name": "python3"
  },
  "language_info": {
   "codemirror_mode": {
    "name": "ipython",
    "version": 3
   },
   "file_extension": ".py",
   "mimetype": "text/x-python",
   "name": "python",
   "nbconvert_exporter": "python",
   "pygments_lexer": "ipython3",
   "version": "3.8.12"
  },
  "toc": {
   "base_numbering": 1,
   "nav_menu": {},
   "number_sections": true,
   "sideBar": true,
   "skip_h1_title": false,
   "title_cell": "Table of Contents",
   "title_sidebar": "Contents",
   "toc_cell": false,
   "toc_position": {},
   "toc_section_display": true,
   "toc_window_display": false
  }
 },
 "nbformat": 4,
 "nbformat_minor": 2
}

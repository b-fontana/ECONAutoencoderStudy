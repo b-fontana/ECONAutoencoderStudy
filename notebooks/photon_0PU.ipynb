{
 "cells": [
  {
   "cell_type": "code",
   "execution_count": 1,
   "metadata": {
    "ExecuteTime": {
     "end_time": "2021-05-28T12:32:15.594025Z",
     "start_time": "2021-05-28T12:32:15.580598Z"
    }
   },
   "outputs": [],
   "source": [
    "%load_ext autoreload\n",
    "%autoreload 2"
   ]
  },
  {
   "cell_type": "code",
   "execution_count": 2,
   "metadata": {
    "ExecuteTime": {
     "end_time": "2021-05-28T12:32:16.001946Z",
     "start_time": "2021-05-28T12:32:15.595150Z"
    }
   },
   "outputs": [],
   "source": [
    "%matplotlib inline "
   ]
  },
  {
   "cell_type": "code",
   "execution_count": 3,
   "metadata": {},
   "outputs": [],
   "source": [
    "# pd.set_option('display.max_rows', None)\n",
    "#pd.set_option('display.max_columns', None)\n",
    "# pd.set_option('display.width', None)\n",
    "# pd.set_option('display.max_colwidth', None)"
   ]
  },
  {
   "cell_type": "code",
   "execution_count": 4,
   "metadata": {
    "ExecuteTime": {
     "end_time": "2021-05-28T12:32:16.899089Z",
     "start_time": "2021-05-28T12:32:16.004351Z"
    }
   },
   "outputs": [],
   "source": [
    "import os\n",
    "from glob import glob\n",
    "import pandas as pd\n",
    "import numpy as np\n",
    "from matplotlib import pyplot as plt\n",
    "import matplotlib"
   ]
  },
  {
   "cell_type": "markdown",
   "metadata": {},
   "source": [
    "## Configuration"
   ]
  },
  {
   "cell_type": "markdown",
   "metadata": {},
   "source": [
    "### Input files and FE algorithms to be studied\n",
    "0PU photon data are loaded"
   ]
  },
  {
   "cell_type": "code",
   "execution_count": 5,
   "metadata": {
    "ExecuteTime": {
     "end_time": "2021-05-28T12:32:16.951080Z",
     "start_time": "2021-05-28T12:32:16.927082Z"
    }
   },
   "outputs": [],
   "source": [
    "algo_files = {}\n",
    "directory = 'Documents/FPGAs/'\n",
    "fes = ['Threshold']\n",
    "\n",
    "for fe in fes:\n",
    "    algo_files[fe] = [ os.path.join(os.environ['HOME'], directory, 'data', 'gen_cl3d_tc.hdf5') ]"
   ]
  },
  {
   "cell_type": "markdown",
   "metadata": {},
   "source": [
    "## Loading and preprocessing dataframes"
   ]
  },
  {
   "cell_type": "code",
   "execution_count": 6,
   "metadata": {
    "ExecuteTime": {
     "end_time": "2021-05-28T12:34:08.789397Z",
     "start_time": "2021-05-28T12:32:16.952290Z"
    }
   },
   "outputs": [],
   "source": [
    "algos_dfs = {}\n",
    "for fe,files in algo_files.items():\n",
    "    name = fe\n",
    "    dfs = []\n",
    "    for file in files:\n",
    "        with pd.HDFStore(file, mode='r') as store:\n",
    "            dfs.append(store[name])\n",
    "    algos_dfs[fe] = pd.concat(dfs)\n",
    "algo_names = sorted(algos_dfs.keys())"
   ]
  },
  {
   "cell_type": "code",
   "execution_count": 7,
   "metadata": {},
   "outputs": [],
   "source": [
    "#Cleaning\n",
    "df = algos_dfs['Threshold']\n",
    "df = df[ df['genpart_exeta']>0 ]\n",
    "df = df[ df['cl3d_eta']>0 ]"
   ]
  },
  {
   "cell_type": "code",
   "execution_count": 8,
   "metadata": {},
   "outputs": [],
   "source": [
    "df['enres'] = ( df['genpart_energy']-df['cl3d_energy'] ) / df['genpart_energy']"
   ]
  },
  {
   "cell_type": "code",
   "execution_count": 9,
   "metadata": {},
   "outputs": [
    {
     "data": {
      "text/html": [
       "<div>\n",
       "<style scoped>\n",
       "    .dataframe tbody tr th:only-of-type {\n",
       "        vertical-align: middle;\n",
       "    }\n",
       "\n",
       "    .dataframe tbody tr th {\n",
       "        vertical-align: top;\n",
       "    }\n",
       "\n",
       "    .dataframe thead th {\n",
       "        text-align: right;\n",
       "    }\n",
       "</style>\n",
       "<table border=\"1\" class=\"dataframe\">\n",
       "  <thead>\n",
       "    <tr style=\"text-align: right;\">\n",
       "      <th></th>\n",
       "      <th>genpart_exphi</th>\n",
       "      <th>genpart_exeta</th>\n",
       "      <th>genpart_energy</th>\n",
       "      <th>cl3d_energy</th>\n",
       "      <th>cl3d_pt</th>\n",
       "      <th>cl3d_eta</th>\n",
       "      <th>cl3d_phi</th>\n",
       "      <th>cl3d_layer_pt</th>\n",
       "      <th>deta</th>\n",
       "      <th>dphi</th>\n",
       "      <th>deltar</th>\n",
       "      <th>matches</th>\n",
       "      <th>best_match</th>\n",
       "      <th>tc_energy</th>\n",
       "      <th>tc_layer</th>\n",
       "      <th>tc_x</th>\n",
       "      <th>tc_y</th>\n",
       "      <th>tc_z</th>\n",
       "      <th>enres</th>\n",
       "    </tr>\n",
       "    <tr>\n",
       "      <th>event</th>\n",
       "      <th></th>\n",
       "      <th></th>\n",
       "      <th></th>\n",
       "      <th></th>\n",
       "      <th></th>\n",
       "      <th></th>\n",
       "      <th></th>\n",
       "      <th></th>\n",
       "      <th></th>\n",
       "      <th></th>\n",
       "      <th></th>\n",
       "      <th></th>\n",
       "      <th></th>\n",
       "      <th></th>\n",
       "      <th></th>\n",
       "      <th></th>\n",
       "      <th></th>\n",
       "      <th></th>\n",
       "      <th></th>\n",
       "    </tr>\n",
       "  </thead>\n",
       "  <tbody>\n",
       "    <tr>\n",
       "      <th>6</th>\n",
       "      <td>-2.164111</td>\n",
       "      <td>2.341516</td>\n",
       "      <td>118.596863</td>\n",
       "      <td>114.899307</td>\n",
       "      <td>21.918896</td>\n",
       "      <td>2.340630</td>\n",
       "      <td>-2.164777</td>\n",
       "      <td>[0.0, 0.0, 0.5497400164604187, 1.4045708179473...</td>\n",
       "      <td>-0.000886</td>\n",
       "      <td>0.000667</td>\n",
       "      <td>0.001109</td>\n",
       "      <td>True</td>\n",
       "      <td>True</td>\n",
       "      <td>[0.7811617851257324, 4.1374993324279785, 1.723...</td>\n",
       "      <td>[31, 15, 15, 15, 15, 15, 15, 11, 11, 11, 11, 1...</td>\n",
       "      <td>[-46.93809509277344, -36.49333953857422, -38.5...</td>\n",
       "      <td>[-73.43374633789062, -56.00122833251953, -54.8...</td>\n",
       "      <td>[378.5989990234375, 342.8927917480469, 342.892...</td>\n",
       "      <td>0.031178</td>\n",
       "    </tr>\n",
       "    <tr>\n",
       "      <th>11</th>\n",
       "      <td>-1.794445</td>\n",
       "      <td>2.438145</td>\n",
       "      <td>149.577072</td>\n",
       "      <td>133.970337</td>\n",
       "      <td>23.189684</td>\n",
       "      <td>2.439482</td>\n",
       "      <td>-1.797793</td>\n",
       "      <td>[0.0, 0.0, 0.0, 1.017364501953125, 3.028297424...</td>\n",
       "      <td>0.001337</td>\n",
       "      <td>0.003348</td>\n",
       "      <td>0.003605</td>\n",
       "      <td>True</td>\n",
       "      <td>True</td>\n",
       "      <td>[0.34478333592414856, 2.5858750343322754, 0.64...</td>\n",
       "      <td>[9, 9, 9, 9, 9, 9, 13, 13, 13, 13, 13, 13, 13,...</td>\n",
       "      <td>[-15.588239669799805, -13.507730484008789, -15...</td>\n",
       "      <td>[-55.200439453125, -58.80398941040039, -57.602...</td>\n",
       "      <td>[333.9827880859375, 333.9827880859375, 333.982...</td>\n",
       "      <td>0.104339</td>\n",
       "    </tr>\n",
       "    <tr>\n",
       "      <th>15</th>\n",
       "      <td>0.506733</td>\n",
       "      <td>2.755759</td>\n",
       "      <td>574.689270</td>\n",
       "      <td>533.757324</td>\n",
       "      <td>67.319183</td>\n",
       "      <td>2.759643</td>\n",
       "      <td>0.504902</td>\n",
       "      <td>[0.0, 0.0, 0.04959961771965027, 1.398266553878...</td>\n",
       "      <td>0.003884</td>\n",
       "      <td>0.001830</td>\n",
       "      <td>0.004294</td>\n",
       "      <td>True</td>\n",
       "      <td>True</td>\n",
       "      <td>[0.3232421278953552, 3.447916030883789, 0.3878...</td>\n",
       "      <td>[23, 23, 23, 23, 19, 21, 25, 25, 25, 11, 11, 1...</td>\n",
       "      <td>[43.01605224609375, 40.935550689697266, 36.774...</td>\n",
       "      <td>[19.705921173095703, 22.50868797302246, 20.106...</td>\n",
       "      <td>[354.7727355957031, 354.7727355957031, 354.772...</td>\n",
       "      <td>0.071224</td>\n",
       "    </tr>\n",
       "    <tr>\n",
       "      <th>25</th>\n",
       "      <td>-1.927717</td>\n",
       "      <td>1.569507</td>\n",
       "      <td>157.129150</td>\n",
       "      <td>149.436020</td>\n",
       "      <td>59.516373</td>\n",
       "      <td>1.571518</td>\n",
       "      <td>-1.927316</td>\n",
       "      <td>[0.0, 0.0, 0.09941799193620682, 2.351156234741...</td>\n",
       "      <td>0.002011</td>\n",
       "      <td>0.000401</td>\n",
       "      <td>0.002050</td>\n",
       "      <td>True</td>\n",
       "      <td>True</td>\n",
       "      <td>[0.18963538110256195, 0.6895666718482971, 9.92...</td>\n",
       "      <td>[17, 5, 7, 7, 7, 19, 19, 9, 9, 23, 23, 23, 23,...</td>\n",
       "      <td>[-52.709503173828125, -51.14911651611328, -51....</td>\n",
       "      <td>[-135.31192016601562, -133.8104248046875, -133...</td>\n",
       "      <td>[345.8627624511719, 328.0427551269531, 331.012...</td>\n",
       "      <td>0.048961</td>\n",
       "    </tr>\n",
       "    <tr>\n",
       "      <th>44</th>\n",
       "      <td>1.580725</td>\n",
       "      <td>3.021865</td>\n",
       "      <td>638.817078</td>\n",
       "      <td>629.842346</td>\n",
       "      <td>60.906776</td>\n",
       "      <td>3.026926</td>\n",
       "      <td>1.586767</td>\n",
       "      <td>[0.0, 0.0, 0.0, 0.2359001636505127, 1.61810970...</td>\n",
       "      <td>0.005062</td>\n",
       "      <td>0.006042</td>\n",
       "      <td>0.007882</td>\n",
       "      <td>True</td>\n",
       "      <td>True</td>\n",
       "      <td>[2.121419906616211, 1.515299916267395, 1.66682...</td>\n",
       "      <td>[29, 29, 29, 27, 27, 27, 27, 27, 27, 27, 11, 1...</td>\n",
       "      <td>[-0.23116779327392578, -0.23116779327392578, 3...</td>\n",
       "      <td>[37.467613220214844, 35.06524658203125, 37.868...</td>\n",
       "      <td>[367.6990051269531, 367.6990051269531, 367.699...</td>\n",
       "      <td>0.014049</td>\n",
       "    </tr>\n",
       "    <tr>\n",
       "      <th>...</th>\n",
       "      <td>...</td>\n",
       "      <td>...</td>\n",
       "      <td>...</td>\n",
       "      <td>...</td>\n",
       "      <td>...</td>\n",
       "      <td>...</td>\n",
       "      <td>...</td>\n",
       "      <td>...</td>\n",
       "      <td>...</td>\n",
       "      <td>...</td>\n",
       "      <td>...</td>\n",
       "      <td>...</td>\n",
       "      <td>...</td>\n",
       "      <td>...</td>\n",
       "      <td>...</td>\n",
       "      <td>...</td>\n",
       "      <td>...</td>\n",
       "      <td>...</td>\n",
       "      <td>...</td>\n",
       "    </tr>\n",
       "    <tr>\n",
       "      <th>199973</th>\n",
       "      <td>-1.267671</td>\n",
       "      <td>1.876786</td>\n",
       "      <td>194.567505</td>\n",
       "      <td>196.803818</td>\n",
       "      <td>58.795021</td>\n",
       "      <td>1.878199</td>\n",
       "      <td>-1.268202</td>\n",
       "      <td>[0.0, 0.0, 0.15846391022205353, 2.498661756515...</td>\n",
       "      <td>0.001412</td>\n",
       "      <td>0.000531</td>\n",
       "      <td>0.001509</td>\n",
       "      <td>True</td>\n",
       "      <td>True</td>\n",
       "      <td>[0.7280507683753967, 0.36238300800323486, 0.72...</td>\n",
       "      <td>[29, 19, 19, 19, 19, 19, 19, 17, 17, 17, 17, 1...</td>\n",
       "      <td>[33.14140701293945, 28.930389404296875, 30.490...</td>\n",
       "      <td>[-107.54037475585938, -105.109130859375, -103....</td>\n",
       "      <td>[367.6990051269531, 348.832763671875, 348.8327...</td>\n",
       "      <td>-0.011494</td>\n",
       "    </tr>\n",
       "    <tr>\n",
       "      <th>199988</th>\n",
       "      <td>0.565477</td>\n",
       "      <td>3.063222</td>\n",
       "      <td>977.593872</td>\n",
       "      <td>723.666748</td>\n",
       "      <td>67.537384</td>\n",
       "      <td>3.062612</td>\n",
       "      <td>0.587481</td>\n",
       "      <td>[0.0, 0.0, 0.0415133498609066, 1.5798121690750...</td>\n",
       "      <td>-0.000610</td>\n",
       "      <td>0.022003</td>\n",
       "      <td>0.022012</td>\n",
       "      <td>True</td>\n",
       "      <td>True</td>\n",
       "      <td>[0.25883880257606506, 1.5515621900558472, 0.64...</td>\n",
       "      <td>[13, 23, 23, 23, 23, 23, 23, 23, 23, 23, 23, 2...</td>\n",
       "      <td>[89.66517639160156, 26.271957397460938, 26.271...</td>\n",
       "      <td>[7.293700218200684, 19.70592498779297, 14.9011...</td>\n",
       "      <td>[339.9227600097656, 354.7727355957031, 354.772...</td>\n",
       "      <td>0.259747</td>\n",
       "    </tr>\n",
       "    <tr>\n",
       "      <th>199992</th>\n",
       "      <td>-0.142678</td>\n",
       "      <td>2.648665</td>\n",
       "      <td>123.824074</td>\n",
       "      <td>107.551605</td>\n",
       "      <td>15.162086</td>\n",
       "      <td>2.647314</td>\n",
       "      <td>-0.141423</td>\n",
       "      <td>[0.0, 0.0, 0.48546549677848816, 1.134449243545...</td>\n",
       "      <td>-0.001351</td>\n",
       "      <td>0.001255</td>\n",
       "      <td>0.001844</td>\n",
       "      <td>True</td>\n",
       "      <td>True</td>\n",
       "      <td>[0.3016854226589203, 0.3877030611038208, 0.301...</td>\n",
       "      <td>[13, 11, 19, 19, 19, 19, 19, 15, 15, 15, 15, 1...</td>\n",
       "      <td>[53.518592834472656, 53.518592834472656, 45.84...</td>\n",
       "      <td>[-13.69999885559082, -13.69999885559082, -3.60...</td>\n",
       "      <td>[339.9227600097656, 336.9527587890625, 348.832...</td>\n",
       "      <td>0.131416</td>\n",
       "    </tr>\n",
       "    <tr>\n",
       "      <th>199994</th>\n",
       "      <td>-2.461031</td>\n",
       "      <td>2.791938</td>\n",
       "      <td>141.312592</td>\n",
       "      <td>131.543182</td>\n",
       "      <td>16.080622</td>\n",
       "      <td>2.791110</td>\n",
       "      <td>-2.460329</td>\n",
       "      <td>[0.0, 0.0, 0.0, 0.05119272693991661, 0.7751875...</td>\n",
       "      <td>-0.000828</td>\n",
       "      <td>0.000703</td>\n",
       "      <td>0.001086</td>\n",
       "      <td>True</td>\n",
       "      <td>True</td>\n",
       "      <td>[0.4309791922569275, 1.5515621900558472, 0.474...</td>\n",
       "      <td>[5, 19, 19, 19, 19, 19, 19, 19, 7, 7, 7, 21, 2...</td>\n",
       "      <td>[-30.25181007385254, -34.4128303527832, -36.49...</td>\n",
       "      <td>[-24.99765396118164, -25.79844093322754, -24.5...</td>\n",
       "      <td>[328.0427551269531, 348.832763671875, 348.8327...</td>\n",
       "      <td>0.069133</td>\n",
       "    </tr>\n",
       "    <tr>\n",
       "      <th>199999</th>\n",
       "      <td>-1.101851</td>\n",
       "      <td>2.976815</td>\n",
       "      <td>242.914307</td>\n",
       "      <td>159.883255</td>\n",
       "      <td>16.349186</td>\n",
       "      <td>2.970788</td>\n",
       "      <td>-1.071077</td>\n",
       "      <td>[0.0, 0.0, 0.30714285373687744, 1.489609003067...</td>\n",
       "      <td>-0.006027</td>\n",
       "      <td>0.030774</td>\n",
       "      <td>0.031359</td>\n",
       "      <td>True</td>\n",
       "      <td>True</td>\n",
       "      <td>[0.21549475193023682, 0.23704423010349274, 3.7...</td>\n",
       "      <td>[21, 21, 7, 7, 7, 7, 7, 7, 15, 15, 15, 15, 15,...</td>\n",
       "      <td>[33.256988525390625, 35.33750534057617, 14.432...</td>\n",
       "      <td>[-66.41148376464844, -65.21029663085938, -31.4...</td>\n",
       "      <td>[351.8027648925781, 351.8027648925781, 331.012...</td>\n",
       "      <td>0.341812</td>\n",
       "    </tr>\n",
       "  </tbody>\n",
       "</table>\n",
       "<p>23926 rows × 19 columns</p>\n",
       "</div>"
      ],
      "text/plain": [
       "        genpart_exphi  genpart_exeta  genpart_energy  cl3d_energy    cl3d_pt  \\\n",
       "event                                                                          \n",
       "6           -2.164111       2.341516      118.596863   114.899307  21.918896   \n",
       "11          -1.794445       2.438145      149.577072   133.970337  23.189684   \n",
       "15           0.506733       2.755759      574.689270   533.757324  67.319183   \n",
       "25          -1.927717       1.569507      157.129150   149.436020  59.516373   \n",
       "44           1.580725       3.021865      638.817078   629.842346  60.906776   \n",
       "...               ...            ...             ...          ...        ...   \n",
       "199973      -1.267671       1.876786      194.567505   196.803818  58.795021   \n",
       "199988       0.565477       3.063222      977.593872   723.666748  67.537384   \n",
       "199992      -0.142678       2.648665      123.824074   107.551605  15.162086   \n",
       "199994      -2.461031       2.791938      141.312592   131.543182  16.080622   \n",
       "199999      -1.101851       2.976815      242.914307   159.883255  16.349186   \n",
       "\n",
       "        cl3d_eta  cl3d_phi                                      cl3d_layer_pt  \\\n",
       "event                                                                           \n",
       "6       2.340630 -2.164777  [0.0, 0.0, 0.5497400164604187, 1.4045708179473...   \n",
       "11      2.439482 -1.797793  [0.0, 0.0, 0.0, 1.017364501953125, 3.028297424...   \n",
       "15      2.759643  0.504902  [0.0, 0.0, 0.04959961771965027, 1.398266553878...   \n",
       "25      1.571518 -1.927316  [0.0, 0.0, 0.09941799193620682, 2.351156234741...   \n",
       "44      3.026926  1.586767  [0.0, 0.0, 0.0, 0.2359001636505127, 1.61810970...   \n",
       "...          ...       ...                                                ...   \n",
       "199973  1.878199 -1.268202  [0.0, 0.0, 0.15846391022205353, 2.498661756515...   \n",
       "199988  3.062612  0.587481  [0.0, 0.0, 0.0415133498609066, 1.5798121690750...   \n",
       "199992  2.647314 -0.141423  [0.0, 0.0, 0.48546549677848816, 1.134449243545...   \n",
       "199994  2.791110 -2.460329  [0.0, 0.0, 0.0, 0.05119272693991661, 0.7751875...   \n",
       "199999  2.970788 -1.071077  [0.0, 0.0, 0.30714285373687744, 1.489609003067...   \n",
       "\n",
       "            deta      dphi    deltar  matches best_match  \\\n",
       "event                                                      \n",
       "6      -0.000886  0.000667  0.001109     True       True   \n",
       "11      0.001337  0.003348  0.003605     True       True   \n",
       "15      0.003884  0.001830  0.004294     True       True   \n",
       "25      0.002011  0.000401  0.002050     True       True   \n",
       "44      0.005062  0.006042  0.007882     True       True   \n",
       "...          ...       ...       ...      ...        ...   \n",
       "199973  0.001412  0.000531  0.001509     True       True   \n",
       "199988 -0.000610  0.022003  0.022012     True       True   \n",
       "199992 -0.001351  0.001255  0.001844     True       True   \n",
       "199994 -0.000828  0.000703  0.001086     True       True   \n",
       "199999 -0.006027  0.030774  0.031359     True       True   \n",
       "\n",
       "                                                tc_energy  \\\n",
       "event                                                       \n",
       "6       [0.7811617851257324, 4.1374993324279785, 1.723...   \n",
       "11      [0.34478333592414856, 2.5858750343322754, 0.64...   \n",
       "15      [0.3232421278953552, 3.447916030883789, 0.3878...   \n",
       "25      [0.18963538110256195, 0.6895666718482971, 9.92...   \n",
       "44      [2.121419906616211, 1.515299916267395, 1.66682...   \n",
       "...                                                   ...   \n",
       "199973  [0.7280507683753967, 0.36238300800323486, 0.72...   \n",
       "199988  [0.25883880257606506, 1.5515621900558472, 0.64...   \n",
       "199992  [0.3016854226589203, 0.3877030611038208, 0.301...   \n",
       "199994  [0.4309791922569275, 1.5515621900558472, 0.474...   \n",
       "199999  [0.21549475193023682, 0.23704423010349274, 3.7...   \n",
       "\n",
       "                                                 tc_layer  \\\n",
       "event                                                       \n",
       "6       [31, 15, 15, 15, 15, 15, 15, 11, 11, 11, 11, 1...   \n",
       "11      [9, 9, 9, 9, 9, 9, 13, 13, 13, 13, 13, 13, 13,...   \n",
       "15      [23, 23, 23, 23, 19, 21, 25, 25, 25, 11, 11, 1...   \n",
       "25      [17, 5, 7, 7, 7, 19, 19, 9, 9, 23, 23, 23, 23,...   \n",
       "44      [29, 29, 29, 27, 27, 27, 27, 27, 27, 27, 11, 1...   \n",
       "...                                                   ...   \n",
       "199973  [29, 19, 19, 19, 19, 19, 19, 17, 17, 17, 17, 1...   \n",
       "199988  [13, 23, 23, 23, 23, 23, 23, 23, 23, 23, 23, 2...   \n",
       "199992  [13, 11, 19, 19, 19, 19, 19, 15, 15, 15, 15, 1...   \n",
       "199994  [5, 19, 19, 19, 19, 19, 19, 19, 7, 7, 7, 21, 2...   \n",
       "199999  [21, 21, 7, 7, 7, 7, 7, 7, 15, 15, 15, 15, 15,...   \n",
       "\n",
       "                                                     tc_x  \\\n",
       "event                                                       \n",
       "6       [-46.93809509277344, -36.49333953857422, -38.5...   \n",
       "11      [-15.588239669799805, -13.507730484008789, -15...   \n",
       "15      [43.01605224609375, 40.935550689697266, 36.774...   \n",
       "25      [-52.709503173828125, -51.14911651611328, -51....   \n",
       "44      [-0.23116779327392578, -0.23116779327392578, 3...   \n",
       "...                                                   ...   \n",
       "199973  [33.14140701293945, 28.930389404296875, 30.490...   \n",
       "199988  [89.66517639160156, 26.271957397460938, 26.271...   \n",
       "199992  [53.518592834472656, 53.518592834472656, 45.84...   \n",
       "199994  [-30.25181007385254, -34.4128303527832, -36.49...   \n",
       "199999  [33.256988525390625, 35.33750534057617, 14.432...   \n",
       "\n",
       "                                                     tc_y  \\\n",
       "event                                                       \n",
       "6       [-73.43374633789062, -56.00122833251953, -54.8...   \n",
       "11      [-55.200439453125, -58.80398941040039, -57.602...   \n",
       "15      [19.705921173095703, 22.50868797302246, 20.106...   \n",
       "25      [-135.31192016601562, -133.8104248046875, -133...   \n",
       "44      [37.467613220214844, 35.06524658203125, 37.868...   \n",
       "...                                                   ...   \n",
       "199973  [-107.54037475585938, -105.109130859375, -103....   \n",
       "199988  [7.293700218200684, 19.70592498779297, 14.9011...   \n",
       "199992  [-13.69999885559082, -13.69999885559082, -3.60...   \n",
       "199994  [-24.99765396118164, -25.79844093322754, -24.5...   \n",
       "199999  [-66.41148376464844, -65.21029663085938, -31.4...   \n",
       "\n",
       "                                                     tc_z     enres  \n",
       "event                                                                \n",
       "6       [378.5989990234375, 342.8927917480469, 342.892...  0.031178  \n",
       "11      [333.9827880859375, 333.9827880859375, 333.982...  0.104339  \n",
       "15      [354.7727355957031, 354.7727355957031, 354.772...  0.071224  \n",
       "25      [345.8627624511719, 328.0427551269531, 331.012...  0.048961  \n",
       "44      [367.6990051269531, 367.6990051269531, 367.699...  0.014049  \n",
       "...                                                   ...       ...  \n",
       "199973  [367.6990051269531, 348.832763671875, 348.8327... -0.011494  \n",
       "199988  [339.9227600097656, 354.7727355957031, 354.772...  0.259747  \n",
       "199992  [339.9227600097656, 336.9527587890625, 348.832...  0.131416  \n",
       "199994  [328.0427551269531, 348.832763671875, 348.8327...  0.069133  \n",
       "199999  [351.8027648925781, 351.8027648925781, 331.012...  0.341812  \n",
       "\n",
       "[23926 rows x 19 columns]"
      ]
     },
     "execution_count": 9,
     "metadata": {},
     "output_type": "execute_result"
    }
   ],
   "source": [
    "nansel = pd.isna(df['enres']) \n",
    "nandf = df[nansel]\n",
    "nandf['enres'] = 1.1\n",
    "df = df[~nansel]\n",
    "df = pd.concat([df,nandf], sort=False)\n",
    "counts, edges = np.histogram(df['enres'].array, bins=500)\n",
    "df"
   ]
  },
  {
   "cell_type": "code",
   "execution_count": 10,
   "metadata": {},
   "outputs": [],
   "source": [
    "matplotlib.rcParams.update({'font.size': 11})\n",
    "def plot_histo_quick(df1, df2, var, nbins=600):\n",
    "    plt.figure(figsize=(12,4))\n",
    "    plt.subplot(211)\n",
    "    plt.hist(df1[var], bins=nbins)\n",
    "    plt.grid()\n",
    "    plt.xlabel(var)\n",
    "    plt.ylabel('Counts')\n",
    "    plt.subplot(221)\n",
    "    plt.hist(df2[var], bins=nbins)\n",
    "    plt.grid()\n",
    "    plt.xlabel(var)\n",
    "    plt.ylabel('Counts')\n",
    "    plt.show()"
   ]
  },
  {
   "cell_type": "code",
   "execution_count": 12,
   "metadata": {},
   "outputs": [
    {
     "data": {
      "image/png": "[encoded data removed]",
      "text/plain": [
       "<Figure size 432x288 with 1 Axes>"
      ]
     },
     "metadata": {
      "needs_background": "light"
     },
     "output_type": "display_data"
    }
   ],
   "source": [
    "plt.figure(figsize=(6,4))\n",
    "plt.hist(df['enres'], bins=500)\n",
    "plt.grid()\n",
    "plt.show()"
   ]
  },
  {
   "cell_type": "code",
   "execution_count": 13,
   "metadata": {},
   "outputs": [
    {
     "data": {
      "text/plain": [
       "Index(['genpart_exphi', 'genpart_exeta', 'genpart_energy', 'cl3d_energy',\n",
       "       'cl3d_pt', 'cl3d_eta', 'cl3d_phi', 'cl3d_layer_pt', 'deta', 'dphi',\n",
       "       'deltar', 'matches', 'best_match', 'tc_energy', 'tc_layer', 'tc_x',\n",
       "       'tc_y', 'tc_z', 'enres'],\n",
       "      dtype='object')"
      ]
     },
     "execution_count": 13,
     "metadata": {},
     "output_type": "execute_result"
    }
   ],
   "source": [
    "enrescut = 0.3\n",
    "duplicated = df[ df['enres'] > enrescut ]\n",
    "duplicated.columns"
   ]
  },
  {
   "cell_type": "code",
   "execution_count": null,
   "metadata": {},
   "outputs": [
    {
     "data": {
      "image/png": "[encoded data removed]",
      "text/plain": [
       "<Figure size 864x288 with 1 Axes>"
      ]
     },
     "metadata": {
      "needs_background": "light"
     },
     "output_type": "display_data"
    },
    {
     "data": {
      "image/png": "[encoded data removed]",
      "text/plain": [
       "<Figure size 864x288 with 1 Axes>"
      ]
     },
     "metadata": {
      "needs_background": "light"
     },
     "output_type": "display_data"
    },
    {
     "data": {
      "image/png": "[encoded data removed]",
      "text/plain": [
       "<Figure size 864x288 with 1 Axes>"
      ]
     },
     "metadata": {
      "needs_background": "light"
     },
     "output_type": "display_data"
    },
    {
     "data": {
      "image/png": "[encoded data removed]",
      "text/plain": [
       "<Figure size 864x288 with 1 Axes>"
      ]
     },
     "metadata": {
      "needs_background": "light"
     },
     "output_type": "display_data"
    }
   ],
   "source": [
    "for col in duplicated.columns:\n",
    "    if 'cl3d' in col:\n",
    "        plot_histo_quick(df, duplicated, var=col, nbins=200)"
   ]
  },
  {
   "cell_type": "code",
   "execution_count": null,
   "metadata": {},
   "outputs": [],
   "source": []
  }
 ],
 "metadata": {
  "kernelspec": {
   "display_name": "Python 3",
   "language": "python",
   "name": "python3"
  },
  "language_info": {
   "codemirror_mode": {
    "name": "ipython",
    "version": 3
   },
   "file_extension": ".py",
   "mimetype": "text/x-python",
   "name": "python",
   "nbconvert_exporter": "python",
   "pygments_lexer": "ipython3",
   "version": "3.9.7"
  },
  "toc": {
   "base_numbering": 1,
   "nav_menu": {},
   "number_sections": true,
   "sideBar": true,
   "skip_h1_title": false,
   "title_cell": "Table of Contents",
   "title_sidebar": "Contents",
   "toc_cell": false,
   "toc_position": {},
   "toc_section_display": true,
   "toc_window_display": false
  }
 },
 "nbformat": 4,
 "nbformat_minor": 2
}

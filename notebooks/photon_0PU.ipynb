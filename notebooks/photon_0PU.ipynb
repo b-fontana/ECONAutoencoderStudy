{
 "cells": [
  {
   "cell_type": "code",
   "execution_count": 1,
   "metadata": {
    "ExecuteTime": {
     "end_time": "2021-05-28T12:32:15.594025Z",
     "start_time": "2021-05-28T12:32:15.580598Z"
    }
   },
   "outputs": [],
   "source": [
    "%load_ext autoreload\n",
    "%autoreload 2"
   ]
  },
  {
   "cell_type": "code",
   "execution_count": 2,
   "metadata": {
    "ExecuteTime": {
     "end_time": "2021-05-28T12:32:16.001946Z",
     "start_time": "2021-05-28T12:32:15.595150Z"
    }
   },
   "outputs": [],
   "source": [
    "%matplotlib inline "
   ]
  },
  {
   "cell_type": "code",
   "execution_count": 3,
   "metadata": {},
   "outputs": [],
   "source": [
    "# pd.set_option('display.max_rows', None)\n",
    "#pd.set_option('display.max_columns', None)\n",
    "# pd.set_option('display.width', None)\n",
    "# pd.set_option('display.max_colwidth', None)"
   ]
  },
  {
   "cell_type": "code",
   "execution_count": 4,
   "metadata": {
    "ExecuteTime": {
     "end_time": "2021-05-28T12:32:16.899089Z",
     "start_time": "2021-05-28T12:32:16.004351Z"
    }
   },
   "outputs": [],
   "source": [
    "import os\n",
    "from glob import glob\n",
    "import pandas as pd\n",
    "import numpy as np\n",
    "from matplotlib import pyplot as plt\n",
    "import matplotlib"
   ]
  },
  {
   "cell_type": "markdown",
   "metadata": {},
   "source": [
    "## Configuration"
   ]
  },
  {
   "cell_type": "markdown",
   "metadata": {},
   "source": [
    "### Plotting styling"
   ]
  },
  {
   "cell_type": "code",
   "execution_count": 5,
   "metadata": {
    "ExecuteTime": {
     "end_time": "2021-05-28T12:32:16.925808Z",
     "start_time": "2021-05-28T12:32:16.901521Z"
    }
   },
   "outputs": [],
   "source": [
    "colors = {}\n",
    "colors['Threshold0'] = 'black'\n",
    "colors['Threshold'] = 'black'\n",
    "colors['Mixedbcstc'] = 'black'\n",
    "colors['AutoEncoderTelescopeMSE'] = 'tab:blue'\n",
    "colors['AutoEncoderStride'] = 'tab:orange'\n",
    "colors['AutoEncoderQKerasTTbar'] = 'tab:red'\n",
    "colors['AutoEncoderQKerasEle'] = 'tab:green'\n",
    "\n",
    "\n",
    "styles = {}\n",
    "styles['Threshold0'] = '-'\n",
    "styles['Threshold'] = '-.'\n",
    "styles['Mixedbcstc'] = '--'\n",
    "styles['AutoEncoderTelescopeMSE'] = '-'\n",
    "styles['AutoEncoderStride'] = '-'\n",
    "styles['AutoEncoderQKerasTTbar'] = '--'\n",
    "styles['AutoEncoderQKerasEle'] = '--'\n",
    "\n",
    "markers = {}\n",
    "markers['Threshold0'] = 'o'\n",
    "markers['Threshold'] = 'o'\n",
    "markers['Mixedbcstc'] = 'o'\n",
    "markers['AutoEncoderTelescopeMSE'] = 'o'\n",
    "markers['AutoEncoderStride'] = 'o'\n",
    "markers['AutoEncoderQKerasTTbar'] = 'o'\n",
    "markers['AutoEncoderQKerasEle'] = 'o'\n",
    "\n",
    "\n",
    "\n",
    "legends = {}\n",
    "legends['Threshold0'] = 'All TC'\n",
    "legends['Threshold'] = 'Threshold 1.35 mipT'\n",
    "legends['Mixedbcstc'] = 'BC+STC'\n",
    "legends['AutoEncoderTelescopeMSE'] = 'AE Telescope MSE'\n",
    "legends['AutoEncoderStride'] = 'AE Stride'\n",
    "legends['AutoEncoderQKerasTTbar'] = 'AE QKeras ttbar'\n",
    "legends['AutoEncoderQKerasEle'] = 'AE QKeras Ele'\n",
    "\n",
    "ref_name = 'Threshold0'\n",
    "plotted_algo = ['Threshold0',\n",
    "                'Threshold',\n",
    "                'Mixedbcstc',\n",
    "                'AutoEncoderTelescopeMSE', \n",
    "                'AutoEncoderStride',\n",
    "                'AutoEncoderQKerasTTbar',\n",
    "                'AutoEncoderQKerasEle',\n",
    "               ]"
   ]
  },
  {
   "cell_type": "markdown",
   "metadata": {},
   "source": [
    "### Input files and FE algorithms to be studied\n",
    "Both 200PU electron gun and 0PU photon guns are loaded"
   ]
  },
  {
   "cell_type": "code",
   "execution_count": 6,
   "metadata": {
    "ExecuteTime": {
     "end_time": "2021-05-28T12:32:16.951080Z",
     "start_time": "2021-05-28T12:32:16.927082Z"
    }
   },
   "outputs": [],
   "source": [
    "version = '210430'\n",
    "fig_dir = '../img/electron_photon_calib_autoencoder_{}'.format(version)\n",
    "algo_files = {}\n",
    "# Read  first set\n",
    "directory = '/home/llr/cms/sauvan/DATA_UPG/HGCAL/Dataframes/study_autoencoder/3_22_1/electron_photon_signaldriven/v_1_2021-05-25'\n",
    "fes = ['Threshold' ]\n",
    "\n",
    "for fe in fes:\n",
    "    #algo_files[fe] = (glob(directory+'/electrons/*.hdf5'), glob(directory+'/photons/*.hdf5'))\n",
    "    algo_files[fe] = ['~/Documents/FPGAs/out.hdf5']"
   ]
  },
  {
   "cell_type": "markdown",
   "metadata": {},
   "source": [
    "## Loading and preprocessing dataframes"
   ]
  },
  {
   "cell_type": "code",
   "execution_count": 7,
   "metadata": {
    "ExecuteTime": {
     "end_time": "2021-05-28T12:34:08.789397Z",
     "start_time": "2021-05-28T12:32:16.952290Z"
    }
   },
   "outputs": [],
   "source": [
    "algos_dfs = {}\n",
    "for fe,files in algo_files.items():\n",
    "    name = fe\n",
    "    dfs = []\n",
    "    for file in files:\n",
    "        with pd.HDFStore(file, mode='r') as store:\n",
    "            dfs.append(store[name])\n",
    "    algos_dfs[fe] = pd.concat(dfs)\n",
    "algo_names = sorted(algos_dfs.keys())"
   ]
  },
  {
   "cell_type": "code",
   "execution_count": 8,
   "metadata": {},
   "outputs": [],
   "source": [
    "#Cleaning\n",
    "df = algos_dfs['Threshold']\n",
    "df = df[ df['genpart_exeta']>0 ]\n",
    "df = df[ df['cl3d_eta']>0 ]"
   ]
  },
  {
   "cell_type": "code",
   "execution_count": 9,
   "metadata": {},
   "outputs": [],
   "source": [
    "df['enres'] = ( df['genpart_energy']-df['cl3d_energy'] ) / df['genpart_energy']"
   ]
  },
  {
   "cell_type": "code",
   "execution_count": 10,
   "metadata": {},
   "outputs": [
    {
     "data": {
      "text/html": [
       "<div>\n",
       "<style scoped>\n",
       "    .dataframe tbody tr th:only-of-type {\n",
       "        vertical-align: middle;\n",
       "    }\n",
       "\n",
       "    .dataframe tbody tr th {\n",
       "        vertical-align: top;\n",
       "    }\n",
       "\n",
       "    .dataframe thead th {\n",
       "        text-align: right;\n",
       "    }\n",
       "</style>\n",
       "<table border=\"1\" class=\"dataframe\">\n",
       "  <thead>\n",
       "    <tr style=\"text-align: right;\">\n",
       "      <th></th>\n",
       "      <th>genpart_pid</th>\n",
       "      <th>genpart_exphi</th>\n",
       "      <th>genpart_exeta</th>\n",
       "      <th>genpart_gen</th>\n",
       "      <th>genpart_reachedEE</th>\n",
       "      <th>genpart_pt</th>\n",
       "      <th>genpart_energy</th>\n",
       "      <th>cl3d_energy</th>\n",
       "      <th>cl3d_pt</th>\n",
       "      <th>cl3d_eta</th>\n",
       "      <th>...</th>\n",
       "      <th>cl3d_layer90</th>\n",
       "      <th>cl3d_ntc67</th>\n",
       "      <th>cl3d_ntc90</th>\n",
       "      <th>cl3d_layer_pt</th>\n",
       "      <th>deta</th>\n",
       "      <th>dphi</th>\n",
       "      <th>deltar</th>\n",
       "      <th>matches</th>\n",
       "      <th>best_match</th>\n",
       "      <th>enres</th>\n",
       "    </tr>\n",
       "    <tr>\n",
       "      <th>event</th>\n",
       "      <th></th>\n",
       "      <th></th>\n",
       "      <th></th>\n",
       "      <th></th>\n",
       "      <th></th>\n",
       "      <th></th>\n",
       "      <th></th>\n",
       "      <th></th>\n",
       "      <th></th>\n",
       "      <th></th>\n",
       "      <th></th>\n",
       "      <th></th>\n",
       "      <th></th>\n",
       "      <th></th>\n",
       "      <th></th>\n",
       "      <th></th>\n",
       "      <th></th>\n",
       "      <th></th>\n",
       "      <th></th>\n",
       "      <th></th>\n",
       "      <th></th>\n",
       "    </tr>\n",
       "  </thead>\n",
       "  <tbody>\n",
       "  </tbody>\n",
       "</table>\n",
       "<p>0 rows × 34 columns</p>\n",
       "</div>"
      ],
      "text/plain": [
       "Empty DataFrame\n",
       "Columns: [genpart_pid, genpart_exphi, genpart_exeta, genpart_gen, genpart_reachedEE, genpart_pt, genpart_energy, cl3d_energy, cl3d_pt, cl3d_eta, cl3d_phi, cl3d_showerlength, cl3d_coreshowerlength, cl3d_firstlayer, cl3d_maxlayer, cl3d_seetot, cl3d_spptot, cl3d_szz, cl3d_srrtot, cl3d_srrmean, cl3d_hoe, cl3d_meanz, cl3d_layer10, cl3d_layer50, cl3d_layer90, cl3d_ntc67, cl3d_ntc90, cl3d_layer_pt, deta, dphi, deltar, matches, best_match, enres]\n",
       "Index: []\n",
       "\n",
       "[0 rows x 34 columns]"
      ]
     },
     "execution_count": 10,
     "metadata": {},
     "output_type": "execute_result"
    }
   ],
   "source": [
    "nansel = pd.isna(df['enres']) \n",
    "nandf = df[nansel]\n",
    "nandf['enres'] = 1.1\n",
    "df = df[~nansel]\n",
    "df = pd.concat([df,nandf], sort=False)\n",
    "counts, edges = np.histogram(df['enres'].array, bins=500)\n",
    "nandf"
   ]
  },
  {
   "cell_type": "code",
   "execution_count": 11,
   "metadata": {},
   "outputs": [],
   "source": [
    "matplotlib.rcParams.update({'font.size': 11})\n",
    "def plot_histo_quick(df1, df2, var, nbins=600):\n",
    "    plt.figure(figsize=(12,4))\n",
    "    plt.subplot(211)\n",
    "    plt.hist(df1[var], bins=nbins)\n",
    "    plt.grid()\n",
    "    plt.xlabel(var)\n",
    "    plt.ylabel('Counts')\n",
    "    plt.subplot(221)\n",
    "    plt.hist(df2[var], bins=nbins)\n",
    "    plt.grid()\n",
    "    plt.xlabel(var)\n",
    "    plt.ylabel('Counts')\n",
    "    plt.show()"
   ]
  },
  {
   "cell_type": "code",
   "execution_count": 12,
   "metadata": {},
   "outputs": [
    {
     "data": {
      "text/plain": [
       "Index(['genpart_pid', 'genpart_exphi', 'genpart_exeta', 'genpart_gen',\n",
       "       'genpart_reachedEE', 'genpart_pt', 'genpart_energy', 'cl3d_energy',\n",
       "       'cl3d_pt', 'cl3d_eta', 'cl3d_phi', 'cl3d_showerlength',\n",
       "       'cl3d_coreshowerlength', 'cl3d_firstlayer', 'cl3d_maxlayer',\n",
       "       'cl3d_seetot', 'cl3d_spptot', 'cl3d_szz', 'cl3d_srrtot', 'cl3d_srrmean',\n",
       "       'cl3d_hoe', 'cl3d_meanz', 'cl3d_layer10', 'cl3d_layer50',\n",
       "       'cl3d_layer90', 'cl3d_ntc67', 'cl3d_ntc90', 'cl3d_layer_pt', 'deta',\n",
       "       'dphi', 'deltar', 'matches', 'best_match', 'enres'],\n",
       "      dtype='object')"
      ]
     },
     "execution_count": 12,
     "metadata": {},
     "output_type": "execute_result"
    }
   ],
   "source": [
    "enrescut = 0.3\n",
    "duplicated = df[ df['enres'] > enrescut ]\n",
    "duplicated.columns"
   ]
  },
  {
   "cell_type": "code",
   "execution_count": null,
   "metadata": {},
   "outputs": [
    {
     "data": {
      "image/png": "[encoded data removed]",
      "text/plain": [
       "<Figure size 864x288 with 1 Axes>"
      ]
     },
     "metadata": {
      "needs_background": "light"
     },
     "output_type": "display_data"
    },
    {
     "data": {
      "image/png": "[encoded data removed]",
      "text/plain": [
       "<Figure size 864x288 with 1 Axes>"
      ]
     },
     "metadata": {
      "needs_background": "light"
     },
     "output_type": "display_data"
    },
    {
     "data": {
      "image/png": "[encoded data removed]",
      "text/plain": [
       "<Figure size 864x288 with 1 Axes>"
      ]
     },
     "metadata": {
      "needs_background": "light"
     },
     "output_type": "display_data"
    },
    {
     "data": {
      "image/png": "[encoded data removed]",
      "text/plain": [
       "<Figure size 864x288 with 1 Axes>"
      ]
     },
     "metadata": {
      "needs_background": "light"
     },
     "output_type": "display_data"
    },
    {
     "data": {
      "image/png": "[encoded data removed]",
      "text/plain": [
       "<Figure size 864x288 with 1 Axes>"
      ]
     },
     "metadata": {
      "needs_background": "light"
     },
     "output_type": "display_data"
    },
    {
     "data": {
      "image/png": "[encoded data removed]",
      "text/plain": [
       "<Figure size 864x288 with 1 Axes>"
      ]
     },
     "metadata": {
      "needs_background": "light"
     },
     "output_type": "display_data"
    },
    {
     "data": {
      "image/png": "[encoded data removed]",
      "text/plain": [
       "<Figure size 864x288 with 1 Axes>"
      ]
     },
     "metadata": {
      "needs_background": "light"
     },
     "output_type": "display_data"
    },
    {
     "data": {
      "image/png": "[encoded data removed]",
      "text/plain": [
       "<Figure size 864x288 with 1 Axes>"
      ]
     },
     "metadata": {
      "needs_background": "light"
     },
     "output_type": "display_data"
    },
    {
     "data": {
      "image/png": "[encoded data removed]",
      "text/plain": [
       "<Figure size 864x288 with 1 Axes>"
      ]
     },
     "metadata": {
      "needs_background": "light"
     },
     "output_type": "display_data"
    },
    {
     "data": {
      "image/png": "[encoded data removed]",
      "text/plain": [
       "<Figure size 864x288 with 1 Axes>"
      ]
     },
     "metadata": {
      "needs_background": "light"
     },
     "output_type": "display_data"
    },
    {
     "data": {
      "image/png": "[encoded data removed]",
      "text/plain": [
       "<Figure size 864x288 with 1 Axes>"
      ]
     },
     "metadata": {
      "needs_background": "light"
     },
     "output_type": "display_data"
    },
    {
     "data": {
      "image/png": "[encoded data removed]",
      "text/plain": [
       "<Figure size 864x288 with 1 Axes>"
      ]
     },
     "metadata": {
      "needs_background": "light"
     },
     "output_type": "display_data"
    },
    {
     "data": {
      "image/png": "[encoded data removed]",
      "text/plain": [
       "<Figure size 864x288 with 1 Axes>"
      ]
     },
     "metadata": {
      "needs_background": "light"
     },
     "output_type": "display_data"
    },
    {
     "data": {
      "image/png": "[encoded data removed]",
      "text/plain": [
       "<Figure size 864x288 with 1 Axes>"
      ]
     },
     "metadata": {
      "needs_background": "light"
     },
     "output_type": "display_data"
    },
    {
     "data": {
      "image/png": "[encoded data removed]",
      "text/plain": [
       "<Figure size 864x288 with 1 Axes>"
      ]
     },
     "metadata": {
      "needs_background": "light"
     },
     "output_type": "display_data"
    },
    {
     "data": {
      "image/png": "[encoded data removed]",
      "text/plain": [
       "<Figure size 864x288 with 1 Axes>"
      ]
     },
     "metadata": {
      "needs_background": "light"
     },
     "output_type": "display_data"
    },
    {
     "data": {
      "image/png": "[encoded data removed]",
      "text/plain": [
       "<Figure size 864x288 with 1 Axes>"
      ]
     },
     "metadata": {
      "needs_background": "light"
     },
     "output_type": "display_data"
    },
    {
     "data": {
      "image/png": "[encoded data removed]",
      "text/plain": [
       "<Figure size 864x288 with 1 Axes>"
      ]
     },
     "metadata": {
      "needs_background": "light"
     },
     "output_type": "display_data"
    },
    {
     "data": {
      "image/png": "[encoded data removed]",
      "text/plain": [
       "<Figure size 864x288 with 1 Axes>"
      ]
     },
     "metadata": {
      "needs_background": "light"
     },
     "output_type": "display_data"
    },
    {
     "data": {
      "image/png": "[encoded data removed]",
      "text/plain": [
       "<Figure size 864x288 with 1 Axes>"
      ]
     },
     "metadata": {
      "needs_background": "light"
     },
     "output_type": "display_data"
    }
   ],
   "source": [
    "for col in duplicated.columns:\n",
    "    if 'cl3d' in col:\n",
    "        plot_histo_quick(df, duplicated, var=col, nbins=200)"
   ]
  },
  {
   "cell_type": "code",
   "execution_count": null,
   "metadata": {},
   "outputs": [],
   "source": []
  }
 ],
 "metadata": {
  "kernelspec": {
   "display_name": "Python 3 (ipykernel)",
   "language": "python",
   "name": "python3"
  },
  "language_info": {
   "codemirror_mode": {
    "name": "ipython",
    "version": 3
   },
   "file_extension": ".py",
   "mimetype": "text/x-python",
   "name": "python",
   "nbconvert_exporter": "python",
   "pygments_lexer": "ipython3",
   "version": "3.9.7"
  },
  "toc": {
   "base_numbering": 1,
   "nav_menu": {},
   "number_sections": true,
   "sideBar": true,
   "skip_h1_title": false,
   "title_cell": "Table of Contents",
   "title_sidebar": "Contents",
   "toc_cell": false,
   "toc_position": {},
   "toc_section_display": true,
   "toc_window_display": false
  }
 },
 "nbformat": 4,
 "nbformat_minor": 2
}
